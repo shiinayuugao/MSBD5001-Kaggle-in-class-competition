{
 "cells": [
  {
   "cell_type": "code",
   "execution_count": 108,
   "metadata": {},
   "outputs": [
    {
     "data": {
      "text/plain": [
       "'C:\\\\Users\\\\whcao'"
      ]
     },
     "execution_count": 108,
     "metadata": {},
     "output_type": "execute_result"
    }
   ],
   "source": [
    "import pandas as pd\n",
    "import numpy as np\n",
    "import os\n",
    "os.getcwd()"
   ]
  },
  {
   "cell_type": "code",
   "execution_count": 109,
   "metadata": {},
   "outputs": [],
   "source": [
    "data_train = pd.read_csv('train.csv',parse_dates=['purchase_date','release_date'])\n",
    "data_test = pd.read_csv('test.csv',parse_dates=['purchase_date','release_date'])"
   ]
  },
  {
   "cell_type": "code",
   "execution_count": 110,
   "metadata": {},
   "outputs": [
    {
     "data": {
      "text/html": [
       "<div>\n",
       "<style scoped>\n",
       "    .dataframe tbody tr th:only-of-type {\n",
       "        vertical-align: middle;\n",
       "    }\n",
       "\n",
       "    .dataframe tbody tr th {\n",
       "        vertical-align: top;\n",
       "    }\n",
       "\n",
       "    .dataframe thead th {\n",
       "        text-align: right;\n",
       "    }\n",
       "</style>\n",
       "<table border=\"1\" class=\"dataframe\">\n",
       "  <thead>\n",
       "    <tr style=\"text-align: right;\">\n",
       "      <th></th>\n",
       "      <th>lack</th>\n",
       "      <th>%</th>\n",
       "    </tr>\n",
       "  </thead>\n",
       "  <tbody>\n",
       "    <tr>\n",
       "      <th>id</th>\n",
       "      <td>0</td>\n",
       "      <td>0.000000</td>\n",
       "    </tr>\n",
       "    <tr>\n",
       "      <th>playtime_forever</th>\n",
       "      <td>0</td>\n",
       "      <td>0.000000</td>\n",
       "    </tr>\n",
       "    <tr>\n",
       "      <th>is_free</th>\n",
       "      <td>0</td>\n",
       "      <td>0.000000</td>\n",
       "    </tr>\n",
       "    <tr>\n",
       "      <th>price</th>\n",
       "      <td>0</td>\n",
       "      <td>0.000000</td>\n",
       "    </tr>\n",
       "    <tr>\n",
       "      <th>genres</th>\n",
       "      <td>0</td>\n",
       "      <td>0.000000</td>\n",
       "    </tr>\n",
       "    <tr>\n",
       "      <th>categories</th>\n",
       "      <td>0</td>\n",
       "      <td>0.000000</td>\n",
       "    </tr>\n",
       "    <tr>\n",
       "      <th>tags</th>\n",
       "      <td>0</td>\n",
       "      <td>0.000000</td>\n",
       "    </tr>\n",
       "    <tr>\n",
       "      <th>purchase_date</th>\n",
       "      <td>2</td>\n",
       "      <td>0.560224</td>\n",
       "    </tr>\n",
       "    <tr>\n",
       "      <th>release_date</th>\n",
       "      <td>0</td>\n",
       "      <td>0.000000</td>\n",
       "    </tr>\n",
       "    <tr>\n",
       "      <th>total_positive_reviews</th>\n",
       "      <td>2</td>\n",
       "      <td>0.560224</td>\n",
       "    </tr>\n",
       "    <tr>\n",
       "      <th>total_negative_reviews</th>\n",
       "      <td>2</td>\n",
       "      <td>0.560224</td>\n",
       "    </tr>\n",
       "  </tbody>\n",
       "</table>\n",
       "</div>"
      ],
      "text/plain": [
       "                        lack         %\n",
       "id                         0  0.000000\n",
       "playtime_forever           0  0.000000\n",
       "is_free                    0  0.000000\n",
       "price                      0  0.000000\n",
       "genres                     0  0.000000\n",
       "categories                 0  0.000000\n",
       "tags                       0  0.000000\n",
       "purchase_date              2  0.560224\n",
       "release_date               0  0.000000\n",
       "total_positive_reviews     2  0.560224\n",
       "total_negative_reviews     2  0.560224"
      ]
     },
     "execution_count": 110,
     "metadata": {},
     "output_type": "execute_result"
    }
   ],
   "source": [
    "# Check the lack of data\n",
    "def null_table(df):\n",
    "        null_val = df.isnull().sum()\n",
    "        percent = 100 * df.isnull().sum()/len(df)\n",
    "        kesson_table = pd.concat([null_val, percent], axis =1)\n",
    "        kesson_table_ren_columns = kesson_table.rename(\n",
    "        columns = {0 : 'lack', 1 :'%'})\n",
    "        return kesson_table_ren_columns\n",
    "    \n",
    "null_table(data_train)"
   ]
  },
  {
   "cell_type": "code",
   "execution_count": 111,
   "metadata": {},
   "outputs": [
    {
     "data": {
      "text/html": [
       "<div>\n",
       "<style scoped>\n",
       "    .dataframe tbody tr th:only-of-type {\n",
       "        vertical-align: middle;\n",
       "    }\n",
       "\n",
       "    .dataframe tbody tr th {\n",
       "        vertical-align: top;\n",
       "    }\n",
       "\n",
       "    .dataframe thead th {\n",
       "        text-align: right;\n",
       "    }\n",
       "</style>\n",
       "<table border=\"1\" class=\"dataframe\">\n",
       "  <thead>\n",
       "    <tr style=\"text-align: right;\">\n",
       "      <th></th>\n",
       "      <th>lack</th>\n",
       "      <th>%</th>\n",
       "    </tr>\n",
       "  </thead>\n",
       "  <tbody>\n",
       "    <tr>\n",
       "      <th>id</th>\n",
       "      <td>0</td>\n",
       "      <td>0.000000</td>\n",
       "    </tr>\n",
       "    <tr>\n",
       "      <th>is_free</th>\n",
       "      <td>0</td>\n",
       "      <td>0.000000</td>\n",
       "    </tr>\n",
       "    <tr>\n",
       "      <th>price</th>\n",
       "      <td>0</td>\n",
       "      <td>0.000000</td>\n",
       "    </tr>\n",
       "    <tr>\n",
       "      <th>genres</th>\n",
       "      <td>0</td>\n",
       "      <td>0.000000</td>\n",
       "    </tr>\n",
       "    <tr>\n",
       "      <th>categories</th>\n",
       "      <td>0</td>\n",
       "      <td>0.000000</td>\n",
       "    </tr>\n",
       "    <tr>\n",
       "      <th>tags</th>\n",
       "      <td>0</td>\n",
       "      <td>0.000000</td>\n",
       "    </tr>\n",
       "    <tr>\n",
       "      <th>purchase_date</th>\n",
       "      <td>2</td>\n",
       "      <td>2.222222</td>\n",
       "    </tr>\n",
       "    <tr>\n",
       "      <th>release_date</th>\n",
       "      <td>0</td>\n",
       "      <td>0.000000</td>\n",
       "    </tr>\n",
       "    <tr>\n",
       "      <th>total_positive_reviews</th>\n",
       "      <td>2</td>\n",
       "      <td>2.222222</td>\n",
       "    </tr>\n",
       "    <tr>\n",
       "      <th>total_negative_reviews</th>\n",
       "      <td>2</td>\n",
       "      <td>2.222222</td>\n",
       "    </tr>\n",
       "  </tbody>\n",
       "</table>\n",
       "</div>"
      ],
      "text/plain": [
       "                        lack         %\n",
       "id                         0  0.000000\n",
       "is_free                    0  0.000000\n",
       "price                      0  0.000000\n",
       "genres                     0  0.000000\n",
       "categories                 0  0.000000\n",
       "tags                       0  0.000000\n",
       "purchase_date              2  2.222222\n",
       "release_date               0  0.000000\n",
       "total_positive_reviews     2  2.222222\n",
       "total_negative_reviews     2  2.222222"
      ]
     },
     "execution_count": 111,
     "metadata": {},
     "output_type": "execute_result"
    }
   ],
   "source": [
    "null_table(data_test)"
   ]
  },
  {
   "cell_type": "code",
   "execution_count": 112,
   "metadata": {},
   "outputs": [],
   "source": [
    "# fill the lack total_positive_reviews and total_negative_reviews with mean value\n",
    "meanvalue1 = data_train['total_positive_reviews'].mean()\n",
    "data_train['total_positive_reviews'].fillna(meanvalue1, inplace=True)\n",
    "meanvalue2 = data_test['total_positive_reviews'].mean()\n",
    "data_test['total_positive_reviews'].fillna(meanvalue2, inplace=True)\n",
    "meanvalue3 = data_train['total_negative_reviews'].mean()\n",
    "data_train['total_negative_reviews'].fillna(meanvalue3, inplace=True)\n",
    "meanvalue4 = data_test['total_negative_reviews'].mean()\n",
    "data_test['total_negative_reviews'].fillna(meanvalue4, inplace=True)"
   ]
  },
  {
   "cell_type": "code",
   "execution_count": 113,
   "metadata": {},
   "outputs": [],
   "source": [
    "# fill the lack purchase_date with release_date\n",
    "lack1= data_train[data_train['purchase_date'].isnull()]\n",
    "lack2= data_test[data_test['purchase_date'].isnull()]\n",
    "ids1 = list(lack1['id'])\n",
    "ids2 = list(lack2['id'])\n",
    "for id in ids1:\n",
    "    data_train.loc[id,'purchase_date'] = data_train.loc[id,'release_date']\n",
    "for id in ids2:\n",
    "    data_test.loc[id,'purchase_date'] = data_test.loc[id,'release_date']"
   ]
  },
  {
   "cell_type": "code",
   "execution_count": 114,
   "metadata": {},
   "outputs": [],
   "source": [
    "# use 0/1 to encode is_free features\n",
    "mapping = {False: 1,True: 0}\n",
    "data_train[\"is_free\"] = data_train[\"is_free\"].map(mapping)\n",
    "data_test[\"is_free\"] = data_test[\"is_free\"].map(mapping)"
   ]
  },
  {
   "cell_type": "code",
   "execution_count": 115,
   "metadata": {},
   "outputs": [],
   "source": [
    "# one-hot encoding for category features \"genres\",\"categories\" and \"tags\" \n",
    "data_combine = pd.concat([data_train.drop(['playtime_forever'], axis=1), data_test],axis=0,ignore_index=True)\n",
    "genre = data_combine['genres'].str.get_dummies(',')\n",
    "category = data_combine['categories'].str.get_dummies(',')\n",
    "tag = data_combine['tags'].str.get_dummies(',')"
   ]
  },
  {
   "cell_type": "code",
   "execution_count": 116,
   "metadata": {},
   "outputs": [],
   "source": [
    "num_genre = genre.shape[1]    # 20 \n",
    "num_category = category.shape[1] # 29\n",
    "num_tag = tag.shape[1]  # 317"
   ]
  },
  {
   "cell_type": "code",
   "execution_count": 117,
   "metadata": {},
   "outputs": [],
   "source": [
    "# For there are too many items, I choose to drop those infrequent ones\n",
    "for item in genre.columns:\n",
    "    if pd.value_counts(genre[item])[1]<200:\n",
    "        genre.drop(item, axis=1, inplace=True)\n",
    "for item in category.columns:\n",
    "    if pd.value_counts(category[item])[1]<200:\n",
    "        category.drop(item, axis=1, inplace=True)\n",
    "for item in tag.columns:\n",
    "    if pd.value_counts(tag[item])[1]<200:\n",
    "        tag.drop(item, axis=1, inplace=True)"
   ]
  },
  {
   "cell_type": "code",
   "execution_count": 118,
   "metadata": {},
   "outputs": [],
   "source": [
    "data_combine = pd.concat([data_combine, genre, category, tag], axis=1)\n",
    "data_combine.drop(['genres','categories','tags'], axis=1, inplace=True)"
   ]
  },
  {
   "cell_type": "code",
   "execution_count": 119,
   "metadata": {},
   "outputs": [],
   "source": [
    "data_combine['purchase_year'] = data_combine['purchase_date'].apply(lambda x: x.year)\n",
    "data_combine['release_year'] = data_combine['release_date'].apply(lambda x:x.year)\n",
    "#data_combine.drop(['purchase_date', 'release_date'], axis=1,inplace=True)"
   ]
  },
  {
   "cell_type": "code",
   "execution_count": 120,
   "metadata": {},
   "outputs": [],
   "source": [
    "data_combine[\"gap\"] = data_combine[\"purchase_year\"]- data_combine[\"release_year\"]   # evaluate the time between the game released and the player purchased it\n",
    "data_combine[\"freshness\"] = 2019 - data_combine[\"release_year\"]   # evaluate how new the game is\n",
    "data_combine[\"holding\"] = 2019 - data_combine[\"purchase_year\"]  #evaluate how long the player has held the game\n",
    "data_combine.drop(['purchase_year', 'release_year'], axis=1,inplace=True)"
   ]
  },
  {
   "cell_type": "code",
   "execution_count": 121,
   "metadata": {},
   "outputs": [],
   "source": [
    "# Min-Max Normalization\n",
    "def min_max_normalization(df,columns):\n",
    "    for column in columns:\n",
    "        df[column] = (df[column]-df[column].min())/(df[column].max()-df[column].min())\n",
    "        \n",
    "min_max_normalization(data_combine,['price','total_positive_reviews','total_negative_reviews','gap','freshness','holding','purchase_date', 'release_date'])"
   ]
  },
  {
   "cell_type": "code",
   "execution_count": 122,
   "metadata": {},
   "outputs": [],
   "source": [
    "data_combine = data_combine.loc[:,~data_combine.columns.duplicated()]\n",
    "train_num = data_train.shape[0]\n",
    "test_num = data_test.shape[0]\n",
    "train_x = data_combine.iloc[:train_num].drop(['id'], axis=1)\n",
    "train_y = data_train['playtime_forever']\n",
    "test_x = data_combine.iloc[train_num:].drop(['id'], axis=1)"
   ]
  },
  {
   "cell_type": "code",
   "execution_count": 123,
   "metadata": {},
   "outputs": [
    {
     "name": "stdout",
     "output_type": "stream",
     "text": [
      "[22:28:00] WARNING: C:/Jenkins/workspace/xgboost-win64_release_0.90/src/objective/regression_obj.cu:152: reg:linear is now deprecated in favor of reg:squarederror.\n"
     ]
    },
    {
     "name": "stderr",
     "output_type": "stream",
     "text": [
      "D:\\anaconda\\anaconda\\lib\\site-packages\\xgboost\\core.py:587: FutureWarning: Series.base is deprecated and will be removed in a future version\n",
      "  if getattr(data, 'base', None) is not None and \\\n",
      "D:\\anaconda\\anaconda\\lib\\site-packages\\xgboost\\core.py:588: FutureWarning: Series.base is deprecated and will be removed in a future version\n",
      "  data.base is not None and isinstance(data, np.ndarray) \\\n"
     ]
    }
   ],
   "source": [
    "import xgboost as xgb\n",
    "from pandas import DataFrame\n",
    "bst = xgb.XGBRegressor(seed = 1850)\n",
    "bst.fit(train_x, train_y)\n",
    "test_y = bst.predict(test_x)"
   ]
  },
  {
   "cell_type": "code",
   "execution_count": 124,
   "metadata": {},
   "outputs": [
    {
     "data": {
      "text/plain": [
       "0.9521273564577646"
      ]
     },
     "execution_count": 124,
     "metadata": {},
     "output_type": "execute_result"
    }
   ],
   "source": [
    "# use the date from training set to predict and score\n",
    "from sklearn import metrics\n",
    "train_time = bst.predict(train_x)  \n",
    "metrics.r2_score(train_y.values, train_time)"
   ]
  },
  {
   "cell_type": "code",
   "execution_count": 125,
   "metadata": {},
   "outputs": [],
   "source": [
    "from xgboost import XGBRegressor\n",
    "from sklearn import model_selection\n",
    "from sklearn import metrics\n",
    "from sklearn.model_selection import GridSearchCV"
   ]
  },
  {
   "cell_type": "code",
   "execution_count": 126,
   "metadata": {},
   "outputs": [],
   "source": [
    "def modelfit(alg, train_x, train_y, useTrainCV = True, cv_folds = 5, early_stopping_rounds =  50):\n",
    "    alg.fit(train_x, train_y,eval_metric = 'rmse')\n",
    "    train_predictions = alg.predict(train_x)  # predict the training set\n",
    "    print (\"\\nAbout this model\")\n",
    "    print (\"r2_score : %.4g\" % metrics.r2_score(train_y.values, train_predictions))"
   ]
  },
  {
   "cell_type": "code",
   "execution_count": 127,
   "metadata": {},
   "outputs": [
    {
     "name": "stderr",
     "output_type": "stream",
     "text": [
      "D:\\anaconda\\anaconda\\lib\\site-packages\\xgboost\\core.py:587: FutureWarning: Series.base is deprecated and will be removed in a future version\n",
      "  if getattr(data, 'base', None) is not None and \\\n",
      "D:\\anaconda\\anaconda\\lib\\site-packages\\xgboost\\core.py:588: FutureWarning: Series.base is deprecated and will be removed in a future version\n",
      "  data.base is not None and isinstance(data, np.ndarray) \\\n"
     ]
    },
    {
     "name": "stdout",
     "output_type": "stream",
     "text": [
      "[22:28:04] WARNING: C:/Jenkins/workspace/xgboost-win64_release_0.90/src/objective/regression_obj.cu:152: reg:linear is now deprecated in favor of reg:squarederror.\n",
      "\n",
      "About this model\n",
      "r2_score : 1\n"
     ]
    }
   ],
   "source": [
    "xgb1 = XGBRegressor(base_score = 0.5,\n",
    "                   colsample_bylevel = 1,\n",
    "                   colsample_bytree = 1,\n",
    "                   gamma = 0,\n",
    "                   learning_rate = 0.01,\n",
    "                   max_delta_step = 0,\n",
    "                   max_depth = 10,\n",
    "                   min_child_weight = 2,\n",
    "                   missing = None,\n",
    "                   n_estimators = 5000,\n",
    "                   nthread = -1,\n",
    "                   objective = 'reg:linear',\n",
    "                   reg_alpha = 0,\n",
    "                   reg_lambda = 1,\n",
    "                   scale_pos_weight = 1,\n",
    "                   seed = 1850,\n",
    "                   slient = True,\n",
    "                   sumsample = 1)\n",
    "modelfit(xgb1, train_x, train_y)"
   ]
  },
  {
   "cell_type": "code",
   "execution_count": 128,
   "metadata": {},
   "outputs": [],
   "source": [
    "test_y = xgb1.predict(test_x)\n",
    "test_y[test_y<0]=0"
   ]
  },
  {
   "cell_type": "code",
   "execution_count": 129,
   "metadata": {},
   "outputs": [],
   "source": [
    "#from sklearn.ensemble import RandomForestRegressor\n",
    "#random_forest = RandomForestRegressor(n_estimators=8000)\n",
    "#random_forest.fit(train_x, train_y)\n",
    "#test_y1 = random_forest.predict(test_x)\n",
    "#test_y1[test_y<0]=0\n",
    "\n",
    "from sklearn.ensemble import GradientBoostingRegressor\n",
    "gbm = GradientBoostingRegressor(n_estimators=500)\n",
    "gbm.fit(train_x, train_y)\n",
    "test_y1 = gbm.predict(test_x)\n",
    "test_y1[test_y1<0]=0"
   ]
  },
  {
   "cell_type": "code",
   "execution_count": 130,
   "metadata": {},
   "outputs": [],
   "source": [
    "ids = [str(n) for n in range(test_num)]\n",
    "ids = np.asarray(ids)\n",
    "predict_outcome = np.vstack((ids,(test_y+test_y1)/2)).T\n",
    "submission = pd.DataFrame(data = predict_outcome,columns = ['id','playtime_forever'])\n",
    "submission.to_csv('submission.csv', index = False)"
   ]
  },
  {
   "cell_type": "code",
   "execution_count": 84,
   "metadata": {},
   "outputs": [],
   "source": []
  },
  {
   "cell_type": "code",
   "execution_count": null,
   "metadata": {},
   "outputs": [],
   "source": []
  },
  {
   "cell_type": "code",
   "execution_count": null,
   "metadata": {},
   "outputs": [],
   "source": []
  }
 ],
 "metadata": {
  "kernelspec": {
   "display_name": "Python 3",
   "language": "python",
   "name": "python3"
  },
  "language_info": {
   "codemirror_mode": {
    "name": "ipython",
    "version": 3
   },
   "file_extension": ".py",
   "mimetype": "text/x-python",
   "name": "python",
   "nbconvert_exporter": "python",
   "pygments_lexer": "ipython3",
   "version": "3.7.5"
  }
 },
 "nbformat": 4,
 "nbformat_minor": 2
}
